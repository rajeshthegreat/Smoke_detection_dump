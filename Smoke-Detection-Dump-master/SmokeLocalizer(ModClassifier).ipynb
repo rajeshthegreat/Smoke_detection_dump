{
 "cells": [
  {
   "cell_type": "code",
   "execution_count": null,
   "metadata": {
    "ExecuteTime": {
     "end_time": "2019-05-10T05:52:17.149368Z",
     "start_time": "2019-05-10T05:51:24.979684Z"
    }
   },
   "outputs": [],
   "source": [
    "import keras\n",
    "from keras.models import Sequential\n",
    "from keras.layers import Conv2D, MaxPooling2D, Dense, Flatten, ZeroPadding2D, Activation, Dropout\n",
    "from keras.preprocessing.image import ImageDataGenerator\n",
    "import h5py\n",
    "import os\n",
    "import cv2\n",
    "import csv\n",
    "import math\n",
    "import tensorflow as tf\n",
    "import numpy as np\n",
    "\n",
    "%matplotlib inline\n",
    "import matplotlib.pyplot as plt\n",
    "import matplotlib.patches as patches"
   ]
  },
  {
   "cell_type": "code",
   "execution_count": null,
   "metadata": {
    "ExecuteTime": {
     "end_time": "2019-05-10T05:52:17.215111Z",
     "start_time": "2019-05-10T05:52:17.152280Z"
    }
   },
   "outputs": [],
   "source": [
    "from keras.utils import Sequence\n",
    "\n",
    "train_images_path = 'Z:/Smoke_DataSet2/Train/'\n",
    "valid_images_path = 'Z:/Smoke_DataSet2/Valid/'\n",
    "train_CSV_file = 'Z:/Smoke_DataSet2/Train.csv'\n",
    "valid_CSV_file = 'Z:/Smoke_DataSet2/Valid.csv'\n",
    "img_size = 224\n",
    "\n",
    "class DataGenerator(Sequence):\n",
    "    \n",
    "    def __init__(self,csv_file,img_path,num,batch_size=25):\n",
    "        \n",
    "        self.csv_file = csv_file\n",
    "        self.x = []\n",
    "        self.y = np.zeros((int(num),4))\n",
    "        self.batch_size = batch_size\n",
    "        self.length = 0\n",
    "        \n",
    "        with open(self.csv_file,\"r\") as csv_data:\n",
    "            csv_reader = csv.reader(csv_data, delimiter=',')\n",
    "            line_no = 0\n",
    "            \n",
    "            for row in csv_reader:\n",
    "                if line_no != 0:\n",
    "                    \n",
    "                    w = int(row[1])\n",
    "                    h = int(row[2])\n",
    "                    minx = abs(int(row[4]))\n",
    "                    miny = abs(int(row[5]))\n",
    "                    maxx = abs(int(row[6]))\n",
    "                    maxy = abs(int(row[7]))\n",
    "                    \n",
    "                    self.y[line_no-1][0] = (minx/w)*img_size\n",
    "                    self.y[line_no-1][1] = (miny/h)*img_size\n",
    "                    self.y[line_no-1][2] = (maxx/w)*img_size\n",
    "                    self.y[line_no-1][3] = (maxy/h)*img_size\n",
    "                    \n",
    "                    #self.y.append([minx,miny,maxx,maxy])\n",
    "                    self.x.append(img_path + row[0])\n",
    "                    line_no += 1\n",
    "                    \n",
    "                else:\n",
    "                    line_no += 1\n",
    "        self.length = (math.ceil(len(self.x) / self.batch_size))\n",
    "        #print(len(self.x),self.length)\n",
    "        #print(self.y)\n",
    "                    \n",
    "    def __loadimages(self,batch):\n",
    "            \n",
    "        img = []\n",
    "            \n",
    "        for filename in batch:\n",
    "                \n",
    "            im = cv2.resize(cv2.imread(filename), (img_size, img_size))\n",
    "            img.append(im)\n",
    "                \n",
    "        return np.array(img)\n",
    "            \n",
    "    def __len__(self):\n",
    "        return self.length\n",
    "                \n",
    "    def __getitem__(self,idx):\n",
    "            \n",
    "        batch_x = self.x[idx * self.batch_size:(idx + 1) * self.batch_size]\n",
    "        batch_y = self.y[idx * self.batch_size:(idx + 1) * self.batch_size]\n",
    "            \n",
    "        images = self.__loadimages(batch_x).astype('float32')\n",
    "            \n",
    "        return images,batch_y"
   ]
  },
  {
   "cell_type": "code",
   "execution_count": null,
   "metadata": {
    "ExecuteTime": {
     "end_time": "2019-05-10T05:52:17.708250Z",
     "start_time": "2019-05-10T05:52:17.221098Z"
    }
   },
   "outputs": [],
   "source": [
    "train_datagen = DataGenerator(train_CSV_file,train_images_path,955,20)\n",
    "valid_datagen = DataGenerator(valid_CSV_file,valid_images_path,100,10)"
   ]
  },
  {
   "cell_type": "code",
   "execution_count": null,
   "metadata": {
    "ExecuteTime": {
     "end_time": "2019-05-10T05:52:29.693668Z",
     "start_time": "2019-05-10T05:52:29.542074Z"
    }
   },
   "outputs": [],
   "source": [
    "#del Localizer\n",
    "Localizer = Sequential()\n",
    "\n",
    "Localizer.add(Conv2D(64,(5,5),input_shape=(224,224,3)))\n",
    "Localizer.add(Conv2D(128,(3,3)))\n",
    "Localizer.add(MaxPooling2D())\n",
    "Localizer.add(Activation('relu'))\n",
    "Localizer.add(Conv2D(256,(2,2)))\n",
    "Localizer.add(Conv2D(256,(2,2)))\n",
    "Localizer.add(MaxPooling2D())\n",
    "Localizer.add(Activation('relu'))\n",
    "Localizer.add(Conv2D(512,(2,2)))\n",
    "Localizer.add(Conv2D(512,(2,2)))\n",
    "Localizer.add(MaxPooling2D())\n",
    "Localizer.add(Activation('relu'))\n",
    "Localizer.add(Flatten())\n",
    "Localizer.add(Dense(50,activation='relu'))\n",
    "Localizer.add(Dense(4,activation='relu'))\n",
    "\n",
    "Localizer.summary()"
   ]
  },
  {
   "cell_type": "code",
   "execution_count": null,
   "metadata": {
    "ExecuteTime": {
     "end_time": "2019-05-10T05:52:31.042807Z",
     "start_time": "2019-05-10T05:52:31.036862Z"
    }
   },
   "outputs": [],
   "source": [
    "checkpoint = keras.callbacks.ModelCheckpoint(\"SmokeLocalization-{loss:.3f}.h5\", \n",
    "                             monitor=\"loss\", \n",
    "                             verbose=1, \n",
    "                             save_best_only=True,\n",
    "                             save_weights_only=True, \n",
    "                             mode=\"auto\", \n",
    "                             period=1)"
   ]
  },
  {
   "cell_type": "code",
   "execution_count": null,
   "metadata": {
    "ExecuteTime": {
     "end_time": "2019-05-10T05:52:32.634959Z",
     "start_time": "2019-05-10T05:52:32.561880Z"
    }
   },
   "outputs": [],
   "source": [
    "Localizer.compile(loss=keras.losses.mean_squared_logarithmic_error, \n",
    "              optimizer=keras.optimizers.SGD(lr=0.01), \n",
    "              metrics=[\"accuracy\"])"
   ]
  },
  {
   "cell_type": "code",
   "execution_count": null,
   "metadata": {
    "ExecuteTime": {
     "end_time": "2019-05-10T05:54:16.922382Z",
     "start_time": "2019-05-10T05:52:33.560518Z"
    }
   },
   "outputs": [],
   "source": [
    "history = Localizer.fit_generator(train_datagen, \n",
    "                    steps_per_epoch=48, \n",
    "                    epochs=5, \n",
    "                    validation_data=valid_datagen,\n",
    "                    validation_steps=10,\n",
    "                    callbacks = [checkpoint])"
   ]
  },
  {
   "cell_type": "code",
   "execution_count": null,
   "metadata": {},
   "outputs": [],
   "source": [
    "print(history.history.keys())\n",
    "#  \"Accuracy\"\n",
    "plt.plot(history.history['acc'])\n",
    "plt.plot(history.history['val_acc'])\n",
    "plt.title('model accuracy')\n",
    "plt.ylabel('accuracy')\n",
    "plt.xlabel('epoch')\n",
    "plt.legend(['train', 'validation'], loc='upper left')\n",
    "plt.show()\n",
    "# \"Loss\"\n",
    "plt.plot(history.history['loss'])\n",
    "plt.plot(history.history['val_loss'])\n",
    "plt.title('model loss')\n",
    "plt.ylabel('loss')\n",
    "plt.xlabel('epoch')\n",
    "plt.legend(['train', 'validation'], loc='upper left')\n",
    "plt.show()"
   ]
  }
 ],
 "metadata": {
  "kernelspec": {
   "display_name": "Python 3",
   "language": "python",
   "name": "python3"
  },
  "language_info": {
   "codemirror_mode": {
    "name": "ipython",
    "version": 3
   },
   "file_extension": ".py",
   "mimetype": "text/x-python",
   "name": "python",
   "nbconvert_exporter": "python",
   "pygments_lexer": "ipython3",
   "version": "3.6.4"
  },
  "toc": {
   "base_numbering": 1,
   "nav_menu": {},
   "number_sections": true,
   "sideBar": true,
   "skip_h1_title": false,
   "title_cell": "Table of Contents",
   "title_sidebar": "Contents",
   "toc_cell": false,
   "toc_position": {},
   "toc_section_display": true,
   "toc_window_display": false
  }
 },
 "nbformat": 4,
 "nbformat_minor": 2
}
